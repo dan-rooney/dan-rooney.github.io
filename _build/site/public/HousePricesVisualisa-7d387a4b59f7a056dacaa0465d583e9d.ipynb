{
 "cells": [
  {
   "cell_type": "markdown",
   "metadata": {},
   "source": [
    "# House Prices\n",
    "\n",
    "The aim of this project was to build an interactive web app for display house prices in England and Wales, using a heat-map overlay to visualise the differences by region.\n",
    "\n",
    "##### Initial questions\n",
    "\n",
    "- What granularity to show average price at? e.g. county, town, postcode, council?\n",
    "- Could add feature for user to zoom in e.g. initially show at county level, then zoom into postcode level\n",
    "- Mean or median average price? - allow user to choose, outliers will be interesting as well\n",
    "- Might be interesting to see range of house prices by area too\n",
    "    - Min, Max\n",
    "    - Mean\n",
    "    - 10%, 25%, 50%, 75%, 90% percentiles\n",
    "\n",
    "A next step would be to see how house prices have changed over time. This could be a separate overlay on the map (user chooses which overlay to view), effectively a different page on the website. Challenge will be how to visualise this change over time by area?\n",
    "\n",
    "- How far back in time will data go?\n",
    "- Maybe take snapshots of average price by area every 5 or 10 years\n",
    "- One simple view would be to allow user to select a date range, e.g. 1960-2020, then visual show average price difference between the 2 dates\n",
    "    - Allowing this to be controlled with a slider would make it easier to find trends\n",
    "\n",
    "##### How to get the data?\n",
    "Write description here of how I got the data and how it's created/published.\n",
    "\n",
    "##### Preparing the data\n",
    "\n",
    "Loading the CSV file into a MySQL database.\n",
    "\n",
    "~~~~sql\n",
    "DROP DATABASE IF EXISTS `houseprices`;\n",
    "CREATE DATABASE `houseprices`;\n",
    "USE `houseprices`;\n",
    "\n",
    "CREATE TABLE `pricepaid` (\n",
    "`unique_id` VARCHAR(100),\n",
    "`price_paid` DECIMAL,\n",
    "`deed_date` DATE,\n",
    "`postcode` VARCHAR(8),\n",
    "`property_type` VARCHAR(1),\n",
    "`new_build` VARCHAR(1),\n",
    "`estate_type` VARCHAR(1),\n",
    "`saon` VARCHAR(50),\n",
    "`paon` VARCHAR(50),\n",
    "`street` VARCHAR(50),\n",
    "`locality` VARCHAR(50),\n",
    "`town` VARCHAR(50),\n",
    "`district` VARCHAR(50),\n",
    "`county` VARCHAR(50),\n",
    "`transaction_category` VARCHAR(1),\n",
    "`linked_data_uri` VARCHAR(1),\n",
    "PRIMARY KEY (unique_id)\n",
    ");\n",
    "\n",
    "SET GLOBAL local_infile=ON;\n",
    "SET autocommit=0;\n",
    "SET unique_checks=1;\n",
    "SET foreign_key_checks=0;\n",
    "\n",
    "LOAD DATA LOW_PRIORITY \n",
    "LOCAL INFILE 'Path/To/Project/pricepaid.csv'\n",
    "INTO TABLE pricepaid \n",
    "CHARACTER SET armscii8\n",
    "FIELDS TERMINATED BY ','\n",
    "ENCLOSED BY '\"'\n",
    "LINES TERMINATED BY '\\n' \n",
    "(`unique_id`,`price_paid`,`deed_date`,`postcode`,`property_type`,`new_build`,`estate_type`,`saon`,`paon`,`street`,`locality`,`town`,`district`,`county`,`transaction_category`,`linked_data_uri`);\n",
    "~~~~"
   ]
  },
  {
   "cell_type": "markdown",
   "metadata": {},
   "source": [
    "Creating an index \n",
    "\n",
    "~~~~sql\n",
    "CREATE INDEX idx_lastname\n",
    "ON Persons (LastName);\n",
    "~~~~"
   ]
  },
  {
   "cell_type": "markdown",
   "metadata": {},
   "source": [
    "I had originally planned to use the full dataset in my Shiny app, however the full table is ~5GB in size with ~29m rows. I chose to get around this by sampling the dataset. Taking a simple random sample of the data would mean that the number of samples from each area would be proportional to the population of that area, so to ensure that each area had an equal number of samples I would use stratified sampling instead.\n",
    "\n",
    "I needed to choose a level of granularity to which to stratify the data. A UK postcode is made up of 2 parts, the outward code (first part) and inward code (second part), separated by a space. The outward code consists of the postcode area (either 1 or 2 letters) followed by the postcode district (usually 1 or 2 digits). For example, in the postcode PO16 7GZ, PO16 is the outward code (or outcode), PO is the area and 16 is the district.\n",
    "\n",
    "OutCode and PostcodeArea were added as generated columns to the pricepaid table, along with a Year column and a YearBin column.\n",
    "\n",
    "~~~~sql\n",
    "ALTER TABLE pricepaid ADD COLUMN OutCode VARCHAR(4) GENERATED ALWAYS AS substr(postcode, 1, locate(' ', postcode) - 1) STORED;\n",
    "ALTER TABLE pricepaid ADD COLUMN PostcodeArea VARCHAR(3) GENERATED ALWAYS AS regexp_replace(OutCode, '[0-9]+', '') STORED;\n",
    "ALTER TABLE pricepaid ADD COLUMN Year INT GENERATED ALWAYS AS year(cast(deed_date as date)) STORED;\n",
    "ALTER TABLE pricepaid ADD COLUMN YearBin VARCHAR(4) GENERATED ALWAYS AS case when (Year < 2005) then '1995 - 2004' when (Year < 2015) then '2005 - 2014' else '2015 +' end STORED;\n",
    "~~~~"
   ]
  },
  {
   "cell_type": "markdown",
   "metadata": {},
   "source": [
    "Taking a stratified sample of 100 observations for each distinct OutCode and YearBin.\n",
    "\n",
    "~~~~sql\n",
    "SELECT t.* FROM\n",
    "(SELECT pp.*, ROW_NUMBER() OVER (PARTITION BY OutCode, YearBin ORDER BY RAND()) AS SeqNum\n",
    "FROM pricepaid pp) t\n",
    "WHERE t.SeqNum <= 100\n",
    "INTO LOCAL OUTFILE 'C:/Users/danjr/Documents/Projects/UK House Prices Visualisation/pricepaidsample.csv'\n",
    "FIELDS TERMINATED BY ','\n",
    "ENCLOSED BY '\"'\n",
    "LINES TERMINATED BY '\\n';\n",
    "~~~~"
   ]
  },
  {
   "cell_type": "markdown",
   "metadata": {},
   "source": [
    "## sampled the data by area (to reduce size so it could be loaded into memory)\n",
    "- tried this, summarising sample by area but it was too slow\n",
    "\n",
    "## instead just loaded pre-summarised data into the app"
   ]
  },
  {
   "cell_type": "code",
   "execution_count": 3,
   "metadata": {},
   "outputs": [
    {
     "name": "stdout",
     "output_type": "stream",
     "text": [
      "hello\n"
     ]
    }
   ],
   "source": [
    "print(\"hello\")"
   ]
  },
  {
   "cell_type": "code",
   "execution_count": 5,
   "metadata": {},
   "outputs": [
    {
     "data": {
      "application/vnd.jupyter.widget-view+json": {
       "model_id": "567c77253dbf49f1bf88cc40da2caeb6",
       "version_major": 2,
       "version_minor": 0
      },
      "text/plain": [
       "Map(center=[54.00366, -2.547855], controls=(ZoomControl(options=['position', 'zoom_in_text', 'zoom_in_title', …"
      ]
     },
     "execution_count": 5,
     "metadata": {},
     "output_type": "execute_result"
    }
   ],
   "source": [
    "import os\n",
    "from pathlib import Path\n",
    "import json\n",
    "import pandas as pd\n",
    "from ipyleaflet import Map, Choropleth\n",
    "from branca.colormap import linear\n",
    "\n",
    "### Load data\n",
    "appDir = Path(os.path.abspath(''))\n",
    "# used https://mapshaper.org/ to simplify the GeoJSON file, reducing its size using the Visvalingam / weighted area method with a 1% zoom level\n",
    "with open(appDir / 'OutcodeCoordinates_compressed.json', 'r') as f:\n",
    "    outcodeCoordinates = json.load(f)\n",
    "summary = pd.read_csv(appDir / 'summary.csv')\n",
    "yearBins = list(summary['YearBin'].unique())\n",
    "\n",
    "input_yearBin = tuple()\n",
    "input_switch = False\n",
    "input_statistic = 'mean'\n",
    "\n",
    "# function to filter the summary dataset and return a lookup dictionary with a key for each Outcode\n",
    "# select all time periods if none are selected\n",
    "if input_yearBin == tuple():\n",
    "    filter = yearBins\n",
    "else:\n",
    "    filter = list(input_yearBin)\n",
    "\n",
    "# logic for comparing summary stastics between time periods\n",
    "if input_switch:\n",
    "    minYearBin = filter[0]\n",
    "    maxYearBin = filter[-1]\n",
    "    dfMin = summary[summary['YearBin'] == minYearBin][['Outcode', input_statistic]]\n",
    "    dfMax = summary[summary['YearBin'] == maxYearBin][['Outcode', input_statistic]]\n",
    "    df = pd.merge(dfMin, dfMax, how=\"inner\", on=\"Outcode\")\n",
    "    df['diff'] = df[input_statistic + '_y'] - df[input_statistic + '_x']\n",
    "    df = df.set_index('Outcode')\n",
    "    df['decile'] = pd.qcut(df['diff'], 10, labels=False)\n",
    "    choroData = df['decile'].to_dict()\n",
    "# if not comparing time periods then just show summary statistic\n",
    "else:\n",
    "    df = summary[summary['YearBin'].isin(filter)].set_index('Outcode')\n",
    "    df['decile'] = pd.qcut(df[input_statistic], 10, labels=False)\n",
    "    choroData = df['decile'].to_dict()\n",
    "\n",
    "# create a Map object and add a Choropleth layer to it\n",
    "m = Map(center=(54.00366, -2.547855), zoom=5.5)\n",
    "\n",
    "layer = Choropleth(\n",
    "            geo_data=outcodeCoordinates,\n",
    "            choro_data=choroData,\n",
    "            key_on='id',\n",
    "            colormap=linear.viridis,\n",
    "            border_color='black',\n",
    "            style={'fillOpacity': 0.8, 'dashArray': '5, 5'}\n",
    "        )\n",
    "        \n",
    "m.add(layer)\n",
    "\n",
    "m"
   ]
  },
  {
   "cell_type": "code",
   "execution_count": null,
   "metadata": {},
   "outputs": [],
   "source": []
  }
 ],
 "metadata": {
  "kernelspec": {
   "display_name": "Python 3 (ipykernel)",
   "language": "python",
   "name": "python3"
  },
  "language_info": {
   "codemirror_mode": {
    "name": "ipython",
    "version": 3
   },
   "file_extension": ".py",
   "mimetype": "text/x-python",
   "name": "python",
   "nbconvert_exporter": "python",
   "pygments_lexer": "ipython3",
   "version": "3.12.4"
  }
 },
 "nbformat": 4,
 "nbformat_minor": 4
}
