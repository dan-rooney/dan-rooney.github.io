{
 "cells": [
  {
   "cell_type": "markdown",
   "metadata": {},
   "source": [
    "# House Prices\n",
    "\n",
    "The aim of this project was to build an interactive web app, with a heat-map overlay showing the average house price by area.\n",
    "\n",
    "##### Initial questions:\n",
    "\n",
    "- What granularity to show average price at? e.g. county, town, postcode, council?\n",
    "- Could add feature for user to zoom in e.g. initially show at county level, then zoom into postcode level\n",
    "- Mean or median average price? - allow user to choose, outliers will be interesting as well\n",
    "- Might be interesting to see range of house prices by area too\n",
    "    - Min, Max\n",
    "    - Mean\n",
    "    - 10%, 25%, 50%, 75%, 90% percentiles\n",
    "\n",
    "A next step would be to see how house prices have changed over time. This could be a separate overlay on the map (user chooses which overlay to view), effectively a different page on the website. Challenge will be how to visualise this change over time by area?\n",
    "\n",
    "    • How far back in time will data go?\n",
    "    • Maybe take snapshots of average price by area every 5 or 10 years\n",
    "    • One simple view would be to allow user to select a date range, e.g. 1960-2020, then visual show average price difference between the 2 dates\n",
    "        ◦ Allowing this to be controlled with a slider would make it easier to find trends\n"
   ]
  }
 ],
 "metadata": {
  "kernelspec": {
   "display_name": "Python 3 (ipykernel)",
   "language": "python",
   "name": "python3"
  },
  "language_info": {
   "codemirror_mode": {
    "name": "ipython",
    "version": 3
   },
   "file_extension": ".py",
   "mimetype": "text/x-python",
   "name": "python",
   "nbconvert_exporter": "python",
   "pygments_lexer": "ipython3",
   "version": "3.11.7"
  }
 },
 "nbformat": 4,
 "nbformat_minor": 4
}
