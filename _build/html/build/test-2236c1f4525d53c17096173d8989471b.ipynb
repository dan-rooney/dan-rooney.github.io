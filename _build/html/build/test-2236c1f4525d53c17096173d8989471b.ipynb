{
 "cells": [
  {
   "cell_type": "code",
   "execution_count": 5,
   "metadata": {
    "tags": [
     "raises-exception"
    ]
   },
   "outputs": [
    {
     "name": "stdout",
     "output_type": "stream",
     "text": [
      "Hello\n"
     ]
    }
   ],
   "source": [
    "import os\n",
    "from pathlib import Path\n",
    "import json\n",
    "import pandas as pd\n",
    "from ipyleaflet import Map, Choropleth\n",
    "from branca.colormap import linear\n",
    "\n",
    "### Load data\n",
    "# appDir = Path(os.path.abspath(''))\n",
    "# # used https://mapshaper.org/ to simplify the GeoJSON file, reducing its size using the Visvalingam / weighted area method with a 1% zoom level\n",
    "# with open(appDir / 'OutcodeCoordinates_compressed.json', 'r') as f:\n",
    "#     outcodeCoordinates = json.load(f)\n",
    "# summary = pd.read_csv(appDir / 'summary.csv')\n",
    "# yearBins = list(summary['YearBin'].unique())\n",
    "\n",
    "with open('OutcodeCoordinates_compressed.json', 'r') as f:\n",
    "    outcodeCoordinates = json.load(f)\n",
    "summary = pd.read_csv('summary.csv')\n",
    "yearBins = list(summary['YearBin'].unique())\n",
    "\n",
    "# input_yearBin = tuple()\n",
    "# input_switch = False\n",
    "# input_statistic = 'mean'\n",
    "\n",
    "# # function to filter the summary dataset and return a lookup dictionary with a key for each Outcode\n",
    "# # select all time periods if none are selected\n",
    "# if input_yearBin == tuple():\n",
    "#     filter = yearBins\n",
    "# else:\n",
    "#     filter = list(input_yearBin)\n",
    "\n",
    "# # logic for comparing summary stastics between time periods\n",
    "# if input_switch:\n",
    "#     minYearBin = filter[0]\n",
    "#     maxYearBin = filter[-1]\n",
    "#     dfMin = summary[summary['YearBin'] == minYearBin][['Outcode', input_statistic]]\n",
    "#     dfMax = summary[summary['YearBin'] == maxYearBin][['Outcode', input_statistic]]\n",
    "#     df = pd.merge(dfMin, dfMax, how=\"inner\", on=\"Outcode\")\n",
    "#     df['diff'] = df[input_statistic + '_y'] - df[input_statistic + '_x']\n",
    "#     df = df.set_index('Outcode')\n",
    "#     df['decile'] = pd.qcut(df['diff'], 10, labels=False)\n",
    "#     choroData = df['decile'].to_dict()\n",
    "# # if not comparing time periods then just show summary statistic\n",
    "# else:\n",
    "#     df = summary[summary['YearBin'].isin(filter)].set_index('Outcode')\n",
    "#     df['decile'] = pd.qcut(df[input_statistic], 10, labels=False)\n",
    "#     choroData = df['decile'].to_dict()\n",
    "\n",
    "# create a Map object and add a Choropleth layer to it\n",
    "# m = Map(center=(54.00366, -2.547855), zoom=5.5)\n",
    "\n",
    "# layer = Choropleth(\n",
    "#             geo_data=outcodeCoordinates,\n",
    "#             choro_data=choroData,\n",
    "#             key_on='id',\n",
    "#             colormap=linear.viridis,\n",
    "#             border_color='black',\n",
    "#             style={'fillOpacity': 0.8, 'dashArray': '5, 5'}\n",
    "#         )\n",
    "        \n",
    "# m.add(layer)\n",
    "\n",
    "print(\"Hello\")\n",
    "\n",
    "# m"
   ]
  },
  {
   "cell_type": "code",
   "execution_count": null,
   "metadata": {},
   "outputs": [],
   "source": [
    "print(\"Hello\")"
   ]
  },
  {
   "cell_type": "code",
   "execution_count": 4,
   "metadata": {},
   "outputs": [
    {
     "data": {
      "text/plain": [
       "WindowsPath('c:/Users/danjr/Documents/Projects/portfolio website/projects')"
      ]
     },
     "execution_count": 4,
     "metadata": {},
     "output_type": "execute_result"
    }
   ],
   "source": [
    "appDir"
   ]
  },
  {
   "cell_type": "code",
   "execution_count": null,
   "metadata": {},
   "outputs": [],
   "source": []
  }
 ],
 "metadata": {
  "kernelspec": {
   "display_name": "portfolioWebsite",
   "language": "python",
   "name": "python3"
  },
  "language_info": {
   "codemirror_mode": {
    "name": "ipython",
    "version": 3
   },
   "file_extension": ".py",
   "mimetype": "text/x-python",
   "name": "python",
   "nbconvert_exporter": "python",
   "pygments_lexer": "ipython3",
   "version": "3.12.4"
  }
 },
 "nbformat": 4,
 "nbformat_minor": 2
}
