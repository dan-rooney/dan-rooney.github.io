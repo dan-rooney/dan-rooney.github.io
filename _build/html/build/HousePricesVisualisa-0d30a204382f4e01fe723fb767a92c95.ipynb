{
 "cells": [
  {
   "cell_type": "markdown",
   "metadata": {},
   "source": [
    "# House Prices\n",
    "\n",
    "### Aim:\n",
    "\n",
    "I’m imagining this to be an interactive web app displaying a map of the UK, with a heat-map overlay showing the average house price in that area, probably by postcode.\n",
    "\n",
    "    • What granularity to show average price at? e.g. county, town, postcode, council?\n",
    "        ◦ Could add feature for user to zoom in e.g. initially show at county level, then zoom into postcode level\n",
    "    • Mean or median average price? - allow user to choose, outliers will be interesting as well\n",
    "    • Might be interesting to see range of house prices by area too\n",
    "            ▪ Min, Max\n",
    "            ▪ Mean\n",
    "            ▪ 10%, 25%, 50%, 75%, 90% percentiles\n",
    "\n",
    "A next step would be to see how house prices have changed over time. This could be a separate overlay on the map (user chooses which overlay to view), effectively a different page on the website. Challenge will be how to visualise this change over time by area?\n",
    "\n",
    "    • How far back in time will data go?\n",
    "    • Maybe take snapshots of average price by area every 5 or 10 years\n",
    "    • One simple view would be to allow user to select a date range, e.g. 1960-2020, then visual show average price difference between the 2 dates\n",
    "        ◦ Allowing this to be controlled with a slider would make it easier to find trends\n"
   ]
  }
 ],
 "metadata": {
  "language_info": {
   "name": "python"
  }
 },
 "nbformat": 4,
 "nbformat_minor": 2
}
