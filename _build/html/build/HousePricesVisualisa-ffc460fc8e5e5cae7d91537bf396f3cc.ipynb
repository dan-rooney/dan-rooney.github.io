{
 "cells": [
  {
   "cell_type": "markdown",
   "metadata": {},
   "source": [
    "# House Prices\n",
    "\n",
    "The aim of this project was to build an interactive web app for display house prices in England and Wales, using a heat-map overlay to visualise the differences by region.\n",
    "\n",
    "##### Initial questions\n",
    "\n",
    "- What granularity to show average price at? e.g. county, town, postcode, council?\n",
    "- Could add feature for user to zoom in e.g. initially show at county level, then zoom into postcode level\n",
    "- Mean or median average price? - allow user to choose, outliers will be interesting as well\n",
    "- Might be interesting to see range of house prices by area too\n",
    "    - Min, Max\n",
    "    - Mean\n",
    "    - 10%, 25%, 50%, 75%, 90% percentiles\n",
    "\n",
    "A next step would be to see how house prices have changed over time. This could be a separate overlay on the map (user chooses which overlay to view), effectively a different page on the website. Challenge will be how to visualise this change over time by area?\n",
    "\n",
    "- How far back in time will data go?\n",
    "- Maybe take snapshots of average price by area every 5 or 10 years\n",
    "- One simple view would be to allow user to select a date range, e.g. 1960-2020, then visual show average price difference between the 2 dates\n",
    "    - Allowing this to be controlled with a slider would make it easier to find trends\n",
    "\n",
    "##### How to get the data?\r\n",
    "Write description here of how I got the data and how it's created/published.\n",
    "\n",
    "##### Preparing the data\n",
    "\n",
    "~~~~sql\n",
    "DROP DATABASE IF EXISTS `houseprices`;\n",
    "CREATE DATABASE `houseprices`;\n",
    "USE `houseprices`;\n",
    "\n",
    "CREATE TABLE `pricepaid` (\n",
    "`unique_id` VARCHAR(100),\n",
    "`price_paid` DECIMAL,\n",
    "`deed_date` DATE,\n",
    "`postcode` VARCHAR(8),\n",
    "`property_type` VARCHAR(1),\n",
    "`new_build` VARCHAR(1),\n",
    "`estate_type` VARCHAR(1),\n",
    "`saon` VARCHAR(50),\n",
    "`paon` VARCHAR(50),\n",
    "`street` VARCHAR(50),\n",
    "`locality` VARCHAR(50),\n",
    "`town` VARCHAR(50),\n",
    "`district` VARCHAR(50),\n",
    "    `county` VARCHAR(50),\n",
    "    `transaction_category` VARCHAR(1),\n",
    "    `linked_data_uri` VARCHAR(1),\n",
    "    PRIMARY KEY (unique_id)\n",
    ");\n",
    "\n",
    "SET GLOBAL local_infile=ON;\r",
    "SET autocommit=0;\n",
    "SET unique_checks=1;\n",
    "SET foreign_key_checks=0;\n",
    "\n",
    "LOAD DATA LOW_PRIORITY \n",
    "LOCAL INFILE 'Path/To/Project/pricepaid.csv'\n",
    "INTO TABLE pricepaid \n",
    "CHARACTER SET armscii8\n",
    "FIELDS TERMINATED BY ','\n",
    "ENCLOSED BY '\"'\n",
    "LINES TERMINATED BY '\\n' \n",
    "(`unique_id`,`price_paid`,`deed_date`,`postcode`,`property_type`,`new_build`,`estate_type`,`saon`,`paon`,`street`,`locality`,`town`,`district`,`county`,`transaction_category`,`linked_data_uri`);000\r\n",
    "~~\n",
    "d for\n"
   ]
  },
  {
   "cell_type": "markdown",
   "metadata": {},
   "source": [
    "Creating an index \n",
    "\n",
    "~~~~sql\n",
    "CREATE INDEX idx_lastname\n",
    "ON Persons (LastName);\n",
    "~~~~"
   ]
  },
  {
   "cell_type": "markdown",
   "metadata": {},
   "source": [
    "I had originally planned to read \n",
    "\n",
    "I needed to choose a level of granularity to which to summarise the data. A UK postcode is made up of 2 parts, the outward code (first part) and inward code (second part), separated by a space. The outward code consists of the postcode area (either 1 or 2 letters) followed by the postcode district (usually 1 or 2 digits). For example, in the postcode PO16 7GZ, PO16 is the outward code (or outcode), PO is the area and 16 is the district.\n",
    "\n",
    "OutCode and PostcodeArea were added as generated columns to the pricepaid table, along with a Year column and a YearBin column.\n",
    "\n",
    "~~~~sql\n",
    "ALTER TABLE pricepaid ADD COLUMN OutCode VARCHAR(4) GENERATED ALWAYS AS substr(postcode, 1, locate(' ', postcode) - 1) STORED;\n",
    "ALTER TABLE pricepaid ADD COLUMN PostcodeArea VARCHAR(3) GENERATED ALWAYS AS regexp_replace(OutCode, '[0-9]+', '') STORED;\n",
    "ALTER TABLE pricepaid ADD COLUMN Year INT GENERATED ALWAYS AS year(cast(deed_date as date)) STORED;\n",
    "ALTER TABLE pricepaid ADD COLUMN YearBin VARCHAR(4) GENERATED ALWAYS AS case when (Year < 2005) then '1995 - 2004' when (Year < 2015) then '2005 - 2014' else '2015 +' end STORED;\n",
    "~~~~"
   ]
  },
  {
   "cell_type": "markdown",
   "metadata": {},
   "source": [
    "Taking a simple random sample of 100 observations for each distinct OutCode and YearBin.\n",
    "\n",
    "~~~~sql\n",
    "SELECT t.* FROM\r\n",
    "(SELECT pp.*   ROW_NUMBER() OVER (PARTITION BY OutCode, YearBin ORDER BY RAND()) AS SeqNum\r\n",
    "FROM pricepaid pp) t\r\n",
    "WHERE t.SeqNum <= 100\r\n",
    "INTO LOCALILE ' OUTFPath/To/Pr/tion/pricepaidsample.csv'\r\n",
    "FIELDS TERMINATED BY ','\r\n",
    "ENCLOSED BY '\"'\r\n",
    "LINES TERED \n",
    "~~~~\n",
    "~~~~BY '\\n';"
   ]
  },
  {
   "cell_type": "markdown",
   "metadata": {},
   "source": []
  }
 ],
 "metadata": {
  "kernelspec": {
   "display_name": "Python 3 (ipykernel)",
   "language": "python",
   "name": "python3"
  },
  "language_info": {
   "codemirror_mode": {
    "name": "ipython",
    "version": 3
   },
   "file_extension": ".py",
   "mimetype": "text/x-python",
   "name": "python",
   "nbconvert_exporter": "python",
   "pygments_lexer": "ipython3",
   "version": "3.11.7"
  }
 },
 "nbformat": 4,
 "nbformat_minor": 4
}
